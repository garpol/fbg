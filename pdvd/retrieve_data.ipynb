{
 "cells": [
  {
   "cell_type": "code",
   "execution_count": 2,
   "metadata": {},
   "outputs": [],
   "source": [
    "import pandas as pd\n",
    "import numpy as np\n",
    "import subprocess, json, datetime, tqdm, datetime"
   ]
  },
  {
   "cell_type": "code",
   "execution_count": 32,
   "metadata": {},
   "outputs": [],
   "source": [
    "\n",
    "dates = []\n",
    "start_date = datetime.datetime(2024, 1, 21)\n",
    "end_date = datetime.datetime(2025, 1, 21)\n",
    "while start_date <= end_date:\n",
    "    dates.append(start_date)\n",
    "    start_date += datetime.timedelta(days=1)\n",
    "\n",
    "mapping = pd.read_csv(\"/afs/cern.ch/work/j/jcapotor/software/fbg/pdvd/mapping/mapping.csv\", header=0, index_col=None)"
   ]
  },
  {
   "cell_type": "code",
   "execution_count": 33,
   "metadata": {},
   "outputs": [
    {
     "name": "stderr",
     "output_type": "stream",
     "text": [
      "Processing 2024-12-06 00:00:00: 100%|██████████| 12/12 [00:01<00:00, 10.74it/s]\n",
      "Processing 2024-12-07 00:00:00: 100%|██████████| 12/12 [00:01<00:00, 11.11it/s]\n",
      "Processing 2024-12-08 00:00:00: 100%|██████████| 12/12 [00:01<00:00,  8.79it/s]\n",
      "Processing 2024-12-09 00:00:00: 100%|██████████| 12/12 [00:01<00:00,  9.82it/s]\n",
      "Processing 2024-12-10 00:00:00: 100%|██████████| 12/12 [00:01<00:00,  9.62it/s]\n",
      "Processing 2024-12-11 00:00:00: 100%|██████████| 12/12 [00:01<00:00,  9.99it/s]\n",
      "Processing 2024-12-12 00:00:00: 100%|██████████| 12/12 [00:01<00:00,  9.45it/s]\n",
      "Processing 2024-12-13 00:00:00: 100%|██████████| 12/12 [00:01<00:00, 10.89it/s]\n",
      "Processing 2024-12-14 00:00:00: 100%|██████████| 12/12 [00:01<00:00, 10.93it/s]\n",
      "Processing 2024-12-15 00:00:00: 100%|██████████| 12/12 [00:01<00:00, 10.81it/s]\n",
      "Processing 2024-12-16 00:00:00: 100%|██████████| 12/12 [00:01<00:00, 10.73it/s]\n",
      "Processing 2024-12-17 00:00:00: 100%|██████████| 12/12 [00:01<00:00, 11.56it/s]\n",
      "Processing 2024-12-18 00:00:00: 100%|██████████| 12/12 [00:00<00:00, 12.16it/s]\n",
      "Processing 2024-12-19 00:00:00: 100%|██████████| 12/12 [00:00<00:00, 12.64it/s]\n",
      "Processing 2024-12-20 00:00:00: 100%|██████████| 12/12 [00:01<00:00, 11.83it/s]\n",
      "Processing 2024-12-21 00:00:00: 100%|██████████| 12/12 [00:00<00:00, 12.40it/s]\n",
      "Processing 2024-12-22 00:00:00: 100%|██████████| 12/12 [00:00<00:00, 12.01it/s]\n",
      "Processing 2024-12-23 00:00:00: 100%|██████████| 12/12 [00:00<00:00, 12.14it/s]\n",
      "Processing 2024-12-24 00:00:00: 100%|██████████| 12/12 [00:00<00:00, 12.11it/s]\n",
      "Processing 2024-12-25 00:00:00: 100%|██████████| 12/12 [00:00<00:00, 12.09it/s]\n",
      "Processing 2024-12-26 00:00:00: 100%|██████████| 12/12 [00:00<00:00, 12.82it/s]\n",
      "Processing 2024-12-27 00:00:00: 100%|██████████| 12/12 [00:00<00:00, 13.00it/s]\n",
      "Processing 2024-12-28 00:00:00: 100%|██████████| 12/12 [00:00<00:00, 12.28it/s]\n",
      "Processing 2024-12-29 00:00:00: 100%|██████████| 12/12 [00:00<00:00, 12.39it/s]\n",
      "Processing 2024-12-30 00:00:00: 100%|██████████| 12/12 [00:00<00:00, 13.38it/s]\n",
      "Processing 2024-12-31 00:00:00: 100%|██████████| 12/12 [00:00<00:00, 12.33it/s]\n",
      "Processing 2025-01-01 00:00:00: 100%|██████████| 12/12 [00:01<00:00, 10.90it/s]\n",
      "Processing 2025-01-02 00:00:00: 100%|██████████| 12/12 [00:01<00:00, 11.94it/s]\n",
      "Processing 2025-01-03 00:00:00: 100%|██████████| 12/12 [00:00<00:00, 12.14it/s]\n",
      "Processing 2025-01-04 00:00:00: 100%|██████████| 12/12 [00:00<00:00, 12.41it/s]\n",
      "Processing 2025-01-05 00:00:00: 100%|██████████| 12/12 [00:00<00:00, 12.33it/s]\n",
      "Processing 2025-01-06 00:00:00: 100%|██████████| 12/12 [00:00<00:00, 12.08it/s]\n",
      "Processing 2025-01-07 00:00:00: 100%|██████████| 12/12 [00:01<00:00,  8.18it/s]\n",
      "Processing 2025-01-08 00:00:00: 100%|██████████| 12/12 [00:00<00:00, 12.22it/s]\n",
      "Processing 2025-01-09 00:00:00: 100%|██████████| 12/12 [00:00<00:00, 12.54it/s]\n",
      "Processing 2025-01-10 00:00:00: 100%|██████████| 12/12 [00:01<00:00, 11.63it/s]\n",
      "Processing 2025-01-11 00:00:00: 100%|██████████| 12/12 [00:00<00:00, 12.33it/s]\n",
      "Processing 2025-01-12 00:00:00: 100%|██████████| 12/12 [00:00<00:00, 12.87it/s]\n",
      "Processing 2025-01-13 00:00:00: 100%|██████████| 12/12 [00:00<00:00, 12.55it/s]\n",
      "Processing 2025-01-14 00:00:00: 100%|██████████| 12/12 [00:01<00:00, 11.92it/s]\n",
      "Processing 2025-01-15 00:00:00: 100%|██████████| 12/12 [00:00<00:00, 12.36it/s]\n",
      "Processing 2025-01-16 00:00:00: 100%|██████████| 12/12 [00:01<00:00, 11.61it/s]\n",
      "Processing 2025-01-17 00:00:00: 100%|██████████| 12/12 [00:00<00:00, 12.07it/s]\n",
      "Processing 2025-01-18 00:00:00: 100%|██████████| 12/12 [00:01<00:00, 11.87it/s]\n",
      "Processing 2025-01-19 00:00:00: 100%|██████████| 12/12 [00:00<00:00, 13.27it/s]\n",
      "Processing 2025-01-20 00:00:00: 100%|██████████| 12/12 [00:01<00:00, 11.51it/s]\n",
      "Processing 2025-01-21 00:00:00: 100%|██████████| 12/12 [00:00<00:00, 12.09it/s]\n"
     ]
    }
   ],
   "source": [
    "for date in dates:\n",
    "    dataFrame = pd.DataFrame()\n",
    "    for index, row in tqdm.tqdm(mapping.iterrows(), total=len(mapping), desc=fr\"Processing {date}\"):\n",
    "        curl_command = curl_command = ['curl', f'http://epdtdi-dcs-extract:7070/day/{datetime.datetime.strftime(date, \"%Y-%m-%d\")}/{row[\"DCS-ID\"]}']\n",
    "        curl_output = subprocess.run(curl_command, capture_output=True, text=True)\n",
    "        data = json.loads(curl_output.stdout)\n",
    "        try:\n",
    "            df = pd.DataFrame.from_dict(data, orient=\"index\", columns=[str(row[\"SC-ID\"])])\n",
    "            df.index = pd.to_datetime(pd.to_numeric(df.index), unit='ms') + datetime.timedelta(hours=2)\n",
    "            dataFrame = pd.concat([dataFrame, df])\n",
    "        except:\n",
    "            continue\n",
    "    dataFrame.to_csv(fr'/eos/user/j/jcapotor/PDVDdata/data/{datetime.datetime.strftime(date, \"%Y-%m-%d\")}.csv')"
   ]
  },
  {
   "cell_type": "code",
   "execution_count": 60,
   "metadata": {},
   "outputs": [],
   "source": [
    "data = pd.read_csv(fr'/eos/user/j/jcapotor/PDVDdata/data/2024-12-10.csv')\n",
    "data = data.set_index(\"Unnamed: 0\")\n",
    "data.index = pd.to_datetime(data.index)"
   ]
  },
  {
   "cell_type": "code",
   "execution_count": 63,
   "metadata": {},
   "outputs": [
    {
     "data": {
      "text/plain": [
       "<AxesSubplot:xlabel='Unnamed: 0'>"
      ]
     },
     "execution_count": 63,
     "metadata": {},
     "output_type": "execute_result"
    },
    {
     "data": {
      "image/png": "[encoded data removed]",
      "text/plain": [
       "<Figure size 640x480 with 1 Axes>"
      ]
     },
     "metadata": {},
     "output_type": "display_data"
    }
   ],
   "source": [
    "data = data.resample(\"10min\").mean()\n",
    "data[\"TE0419\"].plot()"
   ]
  },
  {
   "cell_type": "code",
   "execution_count": null,
   "metadata": {},
   "outputs": [],
   "source": []
  }
 ],
 "metadata": {
  "kernelspec": {
   "display_name": "Python 3",
   "language": "python",
   "name": "python3"
  },
  "language_info": {
   "codemirror_mode": {
    "name": "ipython",
    "version": 3
   },
   "file_extension": ".py",
   "mimetype": "text/x-python",
   "name": "python",
   "nbconvert_exporter": "python",
   "pygments_lexer": "ipython3",
   "version": "3.9.21"
  }
 },
 "nbformat": 4,
 "nbformat_minor": 2
}
